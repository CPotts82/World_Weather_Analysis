{
 "cells": [
  {
   "cell_type": "code",
   "execution_count": 26,
   "id": "aec265d6",
   "metadata": {},
   "outputs": [],
   "source": [
    "import random"
   ]
  },
  {
   "cell_type": "code",
   "execution_count": 27,
   "id": "dd249071",
   "metadata": {},
   "outputs": [],
   "source": [
    "#random."
   ]
  },
  {
   "cell_type": "code",
   "execution_count": 28,
   "id": "7facd68e",
   "metadata": {},
   "outputs": [
    {
     "data": {
      "text/plain": [
       "-40"
      ]
     },
     "execution_count": 28,
     "metadata": {},
     "output_type": "execute_result"
    }
   ],
   "source": [
    "random.randint(-90, 90)"
   ]
  },
  {
   "cell_type": "code",
   "execution_count": 29,
   "id": "490f5c80",
   "metadata": {},
   "outputs": [
    {
     "data": {
      "text/plain": [
       "0.23403817548735528"
      ]
     },
     "execution_count": 29,
     "metadata": {},
     "output_type": "execute_result"
    }
   ],
   "source": [
    "random.random()"
   ]
  },
  {
   "cell_type": "code",
   "execution_count": 30,
   "id": "ad49345c",
   "metadata": {},
   "outputs": [
    {
     "data": {
      "text/plain": [
       "[-15.780215770547786,\n",
       " 31.088287487705276,\n",
       " 8.124430093761571,\n",
       " 8.721176498676734,\n",
       " -18.149835754753667,\n",
       " 64.21337723426684,\n",
       " 3.976446121882884,\n",
       " -33.84122516978286,\n",
       " -25.96379465341516,\n",
       " 19.422808305934428]"
      ]
     },
     "execution_count": 30,
     "metadata": {},
     "output_type": "execute_result"
    }
   ],
   "source": [
    "x = 1\n",
    "latitudes = []\n",
    "while x < 11:\n",
    "    random_lat = random.randint(-90, 89) + random.random()\n",
    "    latitudes.append(random_lat)\n",
    "    x += 1\n",
    "latitudes"
   ]
  },
  {
   "cell_type": "code",
   "execution_count": 33,
   "id": "e9fda940",
   "metadata": {
    "scrolled": true
   },
   "outputs": [
    {
     "data": {
      "text/plain": [
       "69"
      ]
     },
     "execution_count": 33,
     "metadata": {},
     "output_type": "execute_result"
    }
   ],
   "source": [
    "random.randrange(-90, 90, step=3)"
   ]
  },
  {
   "cell_type": "markdown",
   "id": "e67c62c7",
   "metadata": {},
   "source": [
    "random.uniform(-90, 90)"
   ]
  },
  {
   "cell_type": "code",
   "execution_count": 34,
   "id": "e60fcfca",
   "metadata": {},
   "outputs": [
    {
     "data": {
      "text/plain": [
       "-71.82961042407639"
      ]
     },
     "execution_count": 34,
     "metadata": {},
     "output_type": "execute_result"
    }
   ],
   "source": [
    "random.uniform(-90, 90)"
   ]
  },
  {
   "cell_type": "code",
   "execution_count": 35,
   "id": "d5956352",
   "metadata": {},
   "outputs": [],
   "source": [
    "import numpy as np"
   ]
  },
  {
   "cell_type": "code",
   "execution_count": 37,
   "id": "90cd9220",
   "metadata": {},
   "outputs": [
    {
     "data": {
      "text/plain": [
       "-15.905461901711533"
      ]
     },
     "execution_count": 37,
     "metadata": {},
     "output_type": "execute_result"
    }
   ],
   "source": [
    "np.random.uniform(-90, 90)"
   ]
  },
  {
   "cell_type": "code",
   "execution_count": 38,
   "id": "3fb56415",
   "metadata": {},
   "outputs": [
    {
     "data": {
      "text/plain": [
       "array([ 13.42071852, -82.86620152,  83.67587321, -65.68372299,\n",
       "         6.521369  , -80.84537133,  34.14165445, -21.51558912,\n",
       "        15.19511233, -34.10973434,  26.5409828 ,  27.3712951 ,\n",
       "       -67.47292792,  51.36698272,  58.89289474,   8.12896686,\n",
       "        54.17029875, -88.51459348,  49.13289344,  10.74349167,\n",
       "        50.30262042, -59.66836146,  24.44122428,  14.98533091,\n",
       "       -15.54625342, -39.15477681, -67.86899699, -31.84381568,\n",
       "       -25.66179201,  -6.21162715, -84.29742228, -11.02132252,\n",
       "        85.48166435,  78.34282508, -85.39228357, -42.85121695,\n",
       "       -71.14990888,  43.80815838,   7.55565846,  73.98367316,\n",
       "       -40.79214194,  71.32362906,  44.75644222,  19.73035419,\n",
       "        74.21174004,  69.17717655,  26.50805337,  -9.64209406,\n",
       "        -9.60252444,  70.37408984])"
      ]
     },
     "execution_count": 38,
     "metadata": {},
     "output_type": "execute_result"
    }
   ],
   "source": [
    "np.random.uniform(-90.000, 90.000, size=50)"
   ]
  },
  {
   "cell_type": "code",
   "execution_count": 42,
   "id": "07c9808e",
   "metadata": {},
   "outputs": [],
   "source": [
    "import timeit"
   ]
  },
  {
   "cell_type": "code",
   "execution_count": 43,
   "id": "a9209819",
   "metadata": {},
   "outputs": [
    {
     "name": "stdout",
     "output_type": "stream",
     "text": [
      "12.1 µs ± 59.4 ns per loop (mean ± std. dev. of 7 runs, 100000 loops each)\n"
     ]
    }
   ],
   "source": [
    "%timeit np.random.uniform(-90.000, 90.000, size=1500)"
   ]
  },
  {
   "cell_type": "code",
   "execution_count": 45,
   "id": "72ec3462",
   "metadata": {},
   "outputs": [
    {
     "name": "stdout",
     "output_type": "stream",
     "text": [
      "1.36 ms ± 3.92 µs per loop (mean ± std. dev. of 7 runs, 1000 loops each)\n"
     ]
    }
   ],
   "source": [
    "def latitudes (size):\n",
    "    latitudes = []\n",
    "    x = 0\n",
    "    while x < (size):\n",
    "        random_lat = random.randint(-90, 90) + random.random()\n",
    "        latitudes.append(random_lat)\n",
    "        x += 1\n",
    "    return latitudes\n",
    "# Call the function with 1500.\n",
    "%timeit latitudes (1500)"
   ]
  },
  {
   "cell_type": "code",
   "execution_count": 46,
   "id": "f078ffdf",
   "metadata": {},
   "outputs": [
    {
     "data": {
      "text/plain": [
       "<zip at 0x7f8a917cddc0>"
      ]
     },
     "execution_count": 46,
     "metadata": {},
     "output_type": "execute_result"
    }
   ],
   "source": [
    "# Create a set of random latitude and longitude combinations\n",
    "lats = np.random.uniform(low=-90.000, high=90.000, size=1500)\n",
    "lngs = np.random.uniform(low=-90.000, high=90.000, size=1500)\n",
    "lat_lngs = zip(lats, lngs)\n",
    "lat_lngs"
   ]
  },
  {
   "cell_type": "code",
   "execution_count": null,
   "id": "467440e0",
   "metadata": {},
   "outputs": [],
   "source": []
  }
 ],
 "metadata": {
  "kernelspec": {
   "display_name": "PythonData",
   "language": "python",
   "name": "pythondata"
  },
  "language_info": {
   "codemirror_mode": {
    "name": "ipython",
    "version": 3
   },
   "file_extension": ".py",
   "mimetype": "text/x-python",
   "name": "python",
   "nbconvert_exporter": "python",
   "pygments_lexer": "ipython3",
   "version": "3.7.13"
  }
 },
 "nbformat": 4,
 "nbformat_minor": 5
}
